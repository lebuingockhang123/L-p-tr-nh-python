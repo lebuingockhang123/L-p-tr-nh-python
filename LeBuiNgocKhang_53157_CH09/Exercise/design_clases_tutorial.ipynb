{
 "cells": [
  {
   "cell_type": "code",
   "execution_count": 11,
   "id": "d0726c5f-655b-4470-bd08-6e2a98e00eae",
   "metadata": {},
   "outputs": [],
   "source": [
    "from functools import reduce\n",
    "\n",
    "class Student(object):\n",
    "    \"\"\"Represents a student.\"\"\"\n",
    "\n",
    "    def __init__(self, name, number):\n",
    "        \"\"\"All scores are initially 0.\"\"\"\n",
    "        self._name = name\n",
    "        self._scores = []\n",
    "        for count in range(number):\n",
    "            self._scores.append(0)\n",
    "\n",
    "    def getName(self):\n",
    "        \"\"\"Returns are student's name.\"\"\"\n",
    "        return self._name\n",
    "\n",
    "    def getScores(self):\n",
    "        \"\"\"Returns are student's name.\"\"\"\n",
    "        return self._scores\n",
    "\n",
    "    def setScore(self, i, score):\n",
    "        \"\"\"Resets the ith score, counting from 1\"\"\"\n",
    "        self._scores[i - 1] = score\n",
    "\n",
    "    def getScore(self, i):\n",
    "        \"\"\"Returns the ith socre, counting from 1\"\"\"\n",
    "        return self._scores[i - 1]\n",
    "\n",
    "    def getAverage(self):\n",
    "        \"\"\"Returns the average score\"\"\"\n",
    "        sum = reduce(lambda  x, y: x + y, self._scores)\n",
    "        return sum / len(self._scores)\n",
    "\n",
    "    def getHighScore(self):\n",
    "        \"\"\"Returns the highest score\"\"\"\n",
    "        return max(self._scores)\n",
    "\n",
    "    def __int__(self):\n",
    "        \"\"\"Returns the string representation of the student.\"\"\"\n",
    "        return \"Name: \" + self._name + \"\\nScores: \" + \" \".join(map(str, self._scores))\n",
    "    "
   ]
  },
  {
   "cell_type": "code",
   "execution_count": 17,
   "id": "3375d246-b0e6-4817-8bc1-4e83a72f521b",
   "metadata": {},
   "outputs": [
    {
     "ename": "TypeError",
     "evalue": "getScore() missing 1 required positional argument: 'i'",
     "output_type": "error",
     "traceback": [
      "\u001b[1;31m---------------------------------------------------------------------------\u001b[0m",
      "\u001b[1;31mTypeError\u001b[0m                                 Traceback (most recent call last)",
      "\u001b[1;32m<ipython-input-17-1bf0fa9def93>\u001b[0m in \u001b[0;36m<module>\u001b[1;34m\u001b[0m\n\u001b[1;32m----> 1\u001b[1;33m \u001b[0mprint\u001b[0m\u001b[1;33m(\u001b[0m\u001b[1;34m\"Score: \"\u001b[0m\u001b[1;33m,\u001b[0m \u001b[0mstudent_a\u001b[0m\u001b[1;33m.\u001b[0m\u001b[0mgetScore\u001b[0m\u001b[1;33m(\u001b[0m\u001b[1;33m)\u001b[0m\u001b[1;33m)\u001b[0m\u001b[1;33m\u001b[0m\u001b[1;33m\u001b[0m\u001b[0m\n\u001b[0m",
      "\u001b[1;31mTypeError\u001b[0m: getScore() missing 1 required positional argument: 'i'"
     ]
    }
   ],
   "source": [
    "print(\"Score: \", student_a.getScore())"
   ]
  },
  {
   "cell_type": "code",
   "execution_count": null,
   "id": "ee0b0e21-c508-4805-9dd3-1129bb08a1e4",
   "metadata": {},
   "outputs": [],
   "source": []
  }
 ],
 "metadata": {
  "kernelspec": {
   "display_name": "Python 3",
   "language": "python",
   "name": "python3"
  },
  "language_info": {
   "codemirror_mode": {
    "name": "ipython",
    "version": 3
   },
   "file_extension": ".py",
   "mimetype": "text/x-python",
   "name": "python",
   "nbconvert_exporter": "python",
   "pygments_lexer": "ipython3",
   "version": "3.8.8"
  }
 },
 "nbformat": 4,
 "nbformat_minor": 5
}
